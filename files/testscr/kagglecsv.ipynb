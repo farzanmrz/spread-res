{
 "cells": [
  {
   "metadata": {},
   "cell_type": "markdown",
   "source": "# Imports",
   "id": "55cb331ab8b75ca7"
  },
  {
   "metadata": {
    "ExecuteTime": {
     "end_time": "2024-09-15T16:46:25.480651Z",
     "start_time": "2024-09-15T16:46:17.429656Z"
    }
   },
   "cell_type": "code",
   "source": [
    "\n",
    "from selenium import webdriver\n",
    "from selenium.webdriver.chrome.options import Options\n",
    "from webdriver_manager.chrome import ChromeDriverManager\n",
    "import time\n",
    "\n",
    "# Set up the Chrome browser options\n",
    "chrome_options = Options()\n",
    "chrome_options.add_argument(\"--headless\")  # Run in headless mode if you don't need a GUI\n",
    "chrome_options.add_argument(\"--disable-gpu\")\n",
    "chrome_options.add_argument(\"--no-sandbox\")\n",
    "\n",
    "# Initialize Chrome WebDriver without the 'service' keyword (compatible with Selenium 3.x)\n",
    "driver = webdriver.Chrome(ChromeDriverManager().install(), options=chrome_options)\n",
    "\n",
    "# Set explicit timeouts\n",
    "driver.set_page_load_timeout(20)  # Set a timeout for page loading\n",
    "driver.implicitly_wait(10) \n",
    "\n",
    "# Path to save the CSV files\n",
    "save_path = \"../data/massive/csv/\"\n",
    "\n",
    "# Make sure the folder exists\n",
    "if not os.path.exists(save_path):\n",
    "    os.makedirs(save_path)\n",
    "\n",
    "# Function to download a single dataset\n",
    "def download_dataset(driver, dataset_url):\n",
    "    # Visit the dataset page\n",
    "    driver.get(dataset_url)\n",
    "    \n",
    "    # Wait for the page to load completely\n",
    "    time.sleep(2)\n",
    "    \n",
    "    # Find the download button and click it\n",
    "    try:\n",
    "        download_button = driver.find_element(By.XPATH, \"//a[@data-testid='download-file']\")\n",
    "        download_button.click()\n",
    "        time.sleep(5)  # Wait for the file to download\n",
    "    except Exception as e:\n",
    "        print(f\"Failed to download {dataset_url}: {str(e)}\")\n",
    "\n",
    "# Function to visit Kaggle dataset pages and download datasets\n",
    "def scrape_kaggle_datasets(start_page, end_page):\n",
    "    # Set up the Chrome WebDriver using ChromeDriverManager (without `service`)\n",
    "    driver = webdriver.Chrome(ChromeDriverManager().install(), options=chrome_options)\n",
    "    \n",
    "    try:\n",
    "        # Loop through the specified pages\n",
    "        for page_num in range(start_page, end_page + 1):\n",
    "            kaggle_url = f\"https://www.kaggle.com/datasets?fileType=csv&page={page_num}\"\n",
    "            driver.get(kaggle_url)\n",
    "            time.sleep(3)  # Wait for the page to load\n",
    "            \n",
    "            # Find all dataset links on the page\n",
    "            datasets = driver.find_elements(By.XPATH, \"//a[@class='sc-iqzUVk sc-crrsfI jhSXhl sc-caSCKo dMdGoG']\")\n",
    "            \n",
    "            for dataset in datasets:\n",
    "                dataset_url = dataset.get_attribute('href')\n",
    "                print(f\"Downloading dataset from {dataset_url}\")\n",
    "                download_dataset(driver, dataset_url)\n",
    "    \n",
    "    finally:\n",
    "        # Close the WebDriver\n",
    "        driver.quit()\n",
    "\n",
    "# Example usage: Download datasets from page 1 to 2\n",
    "scrape_kaggle_datasets(1, 2)\n"
   ],
   "id": "56a253fa107ee775",
   "outputs": [
    {
     "ename": "ValueError",
     "evalue": "Timeout value connect was <object object at 0x1012208c0>, but it must be an int, float or None.",
     "output_type": "error",
     "traceback": [
      "\u001B[0;31m---------------------------------------------------------------------------\u001B[0m",
      "\u001B[0;31mValueError\u001B[0m                                Traceback (most recent call last)",
      "Cell \u001B[0;32mIn[6], line 13\u001B[0m\n\u001B[1;32m     10\u001B[0m chrome_options\u001B[38;5;241m.\u001B[39madd_argument(\u001B[38;5;124m\"\u001B[39m\u001B[38;5;124m--no-sandbox\u001B[39m\u001B[38;5;124m\"\u001B[39m)\n\u001B[1;32m     12\u001B[0m \u001B[38;5;66;03m# Initialize Chrome WebDriver without the 'service' keyword (compatible with Selenium 3.x)\u001B[39;00m\n\u001B[0;32m---> 13\u001B[0m driver \u001B[38;5;241m=\u001B[39m \u001B[43mwebdriver\u001B[49m\u001B[38;5;241;43m.\u001B[39;49m\u001B[43mChrome\u001B[49m\u001B[43m(\u001B[49m\u001B[43mChromeDriverManager\u001B[49m\u001B[43m(\u001B[49m\u001B[43m)\u001B[49m\u001B[38;5;241;43m.\u001B[39;49m\u001B[43minstall\u001B[49m\u001B[43m(\u001B[49m\u001B[43m)\u001B[49m\u001B[43m,\u001B[49m\u001B[43m \u001B[49m\u001B[43moptions\u001B[49m\u001B[38;5;241;43m=\u001B[39;49m\u001B[43mchrome_options\u001B[49m\u001B[43m)\u001B[49m\n\u001B[1;32m     15\u001B[0m \u001B[38;5;66;03m# Set explicit timeouts\u001B[39;00m\n\u001B[1;32m     16\u001B[0m driver\u001B[38;5;241m.\u001B[39mset_page_load_timeout(\u001B[38;5;241m20\u001B[39m)  \u001B[38;5;66;03m# Set a timeout for page loading\u001B[39;00m\n",
      "File \u001B[0;32m~/miniconda3/lib/python3.12/site-packages/selenium/webdriver/chrome/webdriver.py:76\u001B[0m, in \u001B[0;36mWebDriver.__init__\u001B[0;34m(self, executable_path, port, options, service_args, desired_capabilities, service_log_path, chrome_options, keep_alive)\u001B[0m\n\u001B[1;32m     73\u001B[0m \u001B[38;5;28mself\u001B[39m\u001B[38;5;241m.\u001B[39mservice\u001B[38;5;241m.\u001B[39mstart()\n\u001B[1;32m     75\u001B[0m \u001B[38;5;28;01mtry\u001B[39;00m:\n\u001B[0;32m---> 76\u001B[0m     \u001B[43mRemoteWebDriver\u001B[49m\u001B[38;5;241;43m.\u001B[39;49m\u001B[38;5;21;43m__init__\u001B[39;49m\u001B[43m(\u001B[49m\n\u001B[1;32m     77\u001B[0m \u001B[43m        \u001B[49m\u001B[38;5;28;43mself\u001B[39;49m\u001B[43m,\u001B[49m\n\u001B[1;32m     78\u001B[0m \u001B[43m        \u001B[49m\u001B[43mcommand_executor\u001B[49m\u001B[38;5;241;43m=\u001B[39;49m\u001B[43mChromeRemoteConnection\u001B[49m\u001B[43m(\u001B[49m\n\u001B[1;32m     79\u001B[0m \u001B[43m            \u001B[49m\u001B[43mremote_server_addr\u001B[49m\u001B[38;5;241;43m=\u001B[39;49m\u001B[38;5;28;43mself\u001B[39;49m\u001B[38;5;241;43m.\u001B[39;49m\u001B[43mservice\u001B[49m\u001B[38;5;241;43m.\u001B[39;49m\u001B[43mservice_url\u001B[49m\u001B[43m,\u001B[49m\n\u001B[1;32m     80\u001B[0m \u001B[43m            \u001B[49m\u001B[43mkeep_alive\u001B[49m\u001B[38;5;241;43m=\u001B[39;49m\u001B[43mkeep_alive\u001B[49m\u001B[43m)\u001B[49m\u001B[43m,\u001B[49m\n\u001B[1;32m     81\u001B[0m \u001B[43m        \u001B[49m\u001B[43mdesired_capabilities\u001B[49m\u001B[38;5;241;43m=\u001B[39;49m\u001B[43mdesired_capabilities\u001B[49m\u001B[43m)\u001B[49m\n\u001B[1;32m     82\u001B[0m \u001B[38;5;28;01mexcept\u001B[39;00m \u001B[38;5;167;01mException\u001B[39;00m:\n\u001B[1;32m     83\u001B[0m     \u001B[38;5;28mself\u001B[39m\u001B[38;5;241m.\u001B[39mquit()\n",
      "File \u001B[0;32m~/miniconda3/lib/python3.12/site-packages/selenium/webdriver/remote/webdriver.py:157\u001B[0m, in \u001B[0;36mWebDriver.__init__\u001B[0;34m(self, command_executor, desired_capabilities, browser_profile, proxy, keep_alive, file_detector, options)\u001B[0m\n\u001B[1;32m    154\u001B[0m \u001B[38;5;28;01mif\u001B[39;00m browser_profile \u001B[38;5;129;01mis\u001B[39;00m \u001B[38;5;129;01mnot\u001B[39;00m \u001B[38;5;28;01mNone\u001B[39;00m:\n\u001B[1;32m    155\u001B[0m     warnings\u001B[38;5;241m.\u001B[39mwarn(\u001B[38;5;124m\"\u001B[39m\u001B[38;5;124mPlease use FirefoxOptions to set browser profile\u001B[39m\u001B[38;5;124m\"\u001B[39m,\n\u001B[1;32m    156\u001B[0m                   \u001B[38;5;167;01mDeprecationWarning\u001B[39;00m, stacklevel\u001B[38;5;241m=\u001B[39m\u001B[38;5;241m2\u001B[39m)\n\u001B[0;32m--> 157\u001B[0m \u001B[38;5;28;43mself\u001B[39;49m\u001B[38;5;241;43m.\u001B[39;49m\u001B[43mstart_session\u001B[49m\u001B[43m(\u001B[49m\u001B[43mcapabilities\u001B[49m\u001B[43m,\u001B[49m\u001B[43m \u001B[49m\u001B[43mbrowser_profile\u001B[49m\u001B[43m)\u001B[49m\n\u001B[1;32m    158\u001B[0m \u001B[38;5;28mself\u001B[39m\u001B[38;5;241m.\u001B[39m_switch_to \u001B[38;5;241m=\u001B[39m SwitchTo(\u001B[38;5;28mself\u001B[39m)\n\u001B[1;32m    159\u001B[0m \u001B[38;5;28mself\u001B[39m\u001B[38;5;241m.\u001B[39m_mobile \u001B[38;5;241m=\u001B[39m Mobile(\u001B[38;5;28mself\u001B[39m)\n",
      "File \u001B[0;32m~/miniconda3/lib/python3.12/site-packages/selenium/webdriver/remote/webdriver.py:252\u001B[0m, in \u001B[0;36mWebDriver.start_session\u001B[0;34m(self, capabilities, browser_profile)\u001B[0m\n\u001B[1;32m    249\u001B[0m w3c_caps \u001B[38;5;241m=\u001B[39m _make_w3c_caps(capabilities)\n\u001B[1;32m    250\u001B[0m parameters \u001B[38;5;241m=\u001B[39m {\u001B[38;5;124m\"\u001B[39m\u001B[38;5;124mcapabilities\u001B[39m\u001B[38;5;124m\"\u001B[39m: w3c_caps,\n\u001B[1;32m    251\u001B[0m               \u001B[38;5;124m\"\u001B[39m\u001B[38;5;124mdesiredCapabilities\u001B[39m\u001B[38;5;124m\"\u001B[39m: capabilities}\n\u001B[0;32m--> 252\u001B[0m response \u001B[38;5;241m=\u001B[39m \u001B[38;5;28;43mself\u001B[39;49m\u001B[38;5;241;43m.\u001B[39;49m\u001B[43mexecute\u001B[49m\u001B[43m(\u001B[49m\u001B[43mCommand\u001B[49m\u001B[38;5;241;43m.\u001B[39;49m\u001B[43mNEW_SESSION\u001B[49m\u001B[43m,\u001B[49m\u001B[43m \u001B[49m\u001B[43mparameters\u001B[49m\u001B[43m)\u001B[49m\n\u001B[1;32m    253\u001B[0m \u001B[38;5;28;01mif\u001B[39;00m \u001B[38;5;124m'\u001B[39m\u001B[38;5;124msessionId\u001B[39m\u001B[38;5;124m'\u001B[39m \u001B[38;5;129;01mnot\u001B[39;00m \u001B[38;5;129;01min\u001B[39;00m response:\n\u001B[1;32m    254\u001B[0m     response \u001B[38;5;241m=\u001B[39m response[\u001B[38;5;124m'\u001B[39m\u001B[38;5;124mvalue\u001B[39m\u001B[38;5;124m'\u001B[39m]\n",
      "File \u001B[0;32m~/miniconda3/lib/python3.12/site-packages/selenium/webdriver/remote/webdriver.py:319\u001B[0m, in \u001B[0;36mWebDriver.execute\u001B[0;34m(self, driver_command, params)\u001B[0m\n\u001B[1;32m    316\u001B[0m         params[\u001B[38;5;124m'\u001B[39m\u001B[38;5;124msessionId\u001B[39m\u001B[38;5;124m'\u001B[39m] \u001B[38;5;241m=\u001B[39m \u001B[38;5;28mself\u001B[39m\u001B[38;5;241m.\u001B[39msession_id\n\u001B[1;32m    318\u001B[0m params \u001B[38;5;241m=\u001B[39m \u001B[38;5;28mself\u001B[39m\u001B[38;5;241m.\u001B[39m_wrap_value(params)\n\u001B[0;32m--> 319\u001B[0m response \u001B[38;5;241m=\u001B[39m \u001B[38;5;28;43mself\u001B[39;49m\u001B[38;5;241;43m.\u001B[39;49m\u001B[43mcommand_executor\u001B[49m\u001B[38;5;241;43m.\u001B[39;49m\u001B[43mexecute\u001B[49m\u001B[43m(\u001B[49m\u001B[43mdriver_command\u001B[49m\u001B[43m,\u001B[49m\u001B[43m \u001B[49m\u001B[43mparams\u001B[49m\u001B[43m)\u001B[49m\n\u001B[1;32m    320\u001B[0m \u001B[38;5;28;01mif\u001B[39;00m response:\n\u001B[1;32m    321\u001B[0m     \u001B[38;5;28mself\u001B[39m\u001B[38;5;241m.\u001B[39merror_handler\u001B[38;5;241m.\u001B[39mcheck_response(response)\n",
      "File \u001B[0;32m~/miniconda3/lib/python3.12/site-packages/selenium/webdriver/remote/remote_connection.py:374\u001B[0m, in \u001B[0;36mRemoteConnection.execute\u001B[0;34m(self, command, params)\u001B[0m\n\u001B[1;32m    372\u001B[0m data \u001B[38;5;241m=\u001B[39m utils\u001B[38;5;241m.\u001B[39mdump_json(params)\n\u001B[1;32m    373\u001B[0m url \u001B[38;5;241m=\u001B[39m \u001B[38;5;124m'\u001B[39m\u001B[38;5;132;01m%s\u001B[39;00m\u001B[38;5;132;01m%s\u001B[39;00m\u001B[38;5;124m'\u001B[39m \u001B[38;5;241m%\u001B[39m (\u001B[38;5;28mself\u001B[39m\u001B[38;5;241m.\u001B[39m_url, path)\n\u001B[0;32m--> 374\u001B[0m \u001B[38;5;28;01mreturn\u001B[39;00m \u001B[38;5;28;43mself\u001B[39;49m\u001B[38;5;241;43m.\u001B[39;49m\u001B[43m_request\u001B[49m\u001B[43m(\u001B[49m\u001B[43mcommand_info\u001B[49m\u001B[43m[\u001B[49m\u001B[38;5;241;43m0\u001B[39;49m\u001B[43m]\u001B[49m\u001B[43m,\u001B[49m\u001B[43m \u001B[49m\u001B[43murl\u001B[49m\u001B[43m,\u001B[49m\u001B[43m \u001B[49m\u001B[43mbody\u001B[49m\u001B[38;5;241;43m=\u001B[39;49m\u001B[43mdata\u001B[49m\u001B[43m)\u001B[49m\n",
      "File \u001B[0;32m~/miniconda3/lib/python3.12/site-packages/selenium/webdriver/remote/remote_connection.py:397\u001B[0m, in \u001B[0;36mRemoteConnection._request\u001B[0;34m(self, method, url, body)\u001B[0m\n\u001B[1;32m    394\u001B[0m     body \u001B[38;5;241m=\u001B[39m \u001B[38;5;28;01mNone\u001B[39;00m\n\u001B[1;32m    396\u001B[0m \u001B[38;5;28;01mif\u001B[39;00m \u001B[38;5;28mself\u001B[39m\u001B[38;5;241m.\u001B[39mkeep_alive:\n\u001B[0;32m--> 397\u001B[0m     resp \u001B[38;5;241m=\u001B[39m \u001B[38;5;28;43mself\u001B[39;49m\u001B[38;5;241;43m.\u001B[39;49m\u001B[43m_conn\u001B[49m\u001B[38;5;241;43m.\u001B[39;49m\u001B[43mrequest\u001B[49m\u001B[43m(\u001B[49m\u001B[43mmethod\u001B[49m\u001B[43m,\u001B[49m\u001B[43m \u001B[49m\u001B[43murl\u001B[49m\u001B[43m,\u001B[49m\u001B[43m \u001B[49m\u001B[43mbody\u001B[49m\u001B[38;5;241;43m=\u001B[39;49m\u001B[43mbody\u001B[49m\u001B[43m,\u001B[49m\u001B[43m \u001B[49m\u001B[43mheaders\u001B[49m\u001B[38;5;241;43m=\u001B[39;49m\u001B[43mheaders\u001B[49m\u001B[43m)\u001B[49m\n\u001B[1;32m    399\u001B[0m     statuscode \u001B[38;5;241m=\u001B[39m resp\u001B[38;5;241m.\u001B[39mstatus\n\u001B[1;32m    400\u001B[0m \u001B[38;5;28;01melse\u001B[39;00m:\n",
      "File \u001B[0;32m~/miniconda3/lib/python3.12/site-packages/urllib3/_request_methods.py:144\u001B[0m, in \u001B[0;36mRequestMethods.request\u001B[0;34m(self, method, url, body, fields, headers, json, **urlopen_kw)\u001B[0m\n\u001B[1;32m    136\u001B[0m     \u001B[38;5;28;01mreturn\u001B[39;00m \u001B[38;5;28mself\u001B[39m\u001B[38;5;241m.\u001B[39mrequest_encode_url(\n\u001B[1;32m    137\u001B[0m         method,\n\u001B[1;32m    138\u001B[0m         url,\n\u001B[0;32m   (...)\u001B[0m\n\u001B[1;32m    141\u001B[0m         \u001B[38;5;241m*\u001B[39m\u001B[38;5;241m*\u001B[39murlopen_kw,\n\u001B[1;32m    142\u001B[0m     )\n\u001B[1;32m    143\u001B[0m \u001B[38;5;28;01melse\u001B[39;00m:\n\u001B[0;32m--> 144\u001B[0m     \u001B[38;5;28;01mreturn\u001B[39;00m \u001B[38;5;28;43mself\u001B[39;49m\u001B[38;5;241;43m.\u001B[39;49m\u001B[43mrequest_encode_body\u001B[49m\u001B[43m(\u001B[49m\n\u001B[1;32m    145\u001B[0m \u001B[43m        \u001B[49m\u001B[43mmethod\u001B[49m\u001B[43m,\u001B[49m\u001B[43m \u001B[49m\u001B[43murl\u001B[49m\u001B[43m,\u001B[49m\u001B[43m \u001B[49m\u001B[43mfields\u001B[49m\u001B[38;5;241;43m=\u001B[39;49m\u001B[43mfields\u001B[49m\u001B[43m,\u001B[49m\u001B[43m \u001B[49m\u001B[43mheaders\u001B[49m\u001B[38;5;241;43m=\u001B[39;49m\u001B[43mheaders\u001B[49m\u001B[43m,\u001B[49m\u001B[43m \u001B[49m\u001B[38;5;241;43m*\u001B[39;49m\u001B[38;5;241;43m*\u001B[39;49m\u001B[43murlopen_kw\u001B[49m\n\u001B[1;32m    146\u001B[0m \u001B[43m    \u001B[49m\u001B[43m)\u001B[49m\n",
      "File \u001B[0;32m~/miniconda3/lib/python3.12/site-packages/urllib3/_request_methods.py:279\u001B[0m, in \u001B[0;36mRequestMethods.request_encode_body\u001B[0;34m(self, method, url, fields, headers, encode_multipart, multipart_boundary, **urlopen_kw)\u001B[0m\n\u001B[1;32m    275\u001B[0m     extra_kw[\u001B[38;5;124m\"\u001B[39m\u001B[38;5;124mheaders\u001B[39m\u001B[38;5;124m\"\u001B[39m]\u001B[38;5;241m.\u001B[39msetdefault(\u001B[38;5;124m\"\u001B[39m\u001B[38;5;124mContent-Type\u001B[39m\u001B[38;5;124m\"\u001B[39m, content_type)\n\u001B[1;32m    277\u001B[0m extra_kw\u001B[38;5;241m.\u001B[39mupdate(urlopen_kw)\n\u001B[0;32m--> 279\u001B[0m \u001B[38;5;28;01mreturn\u001B[39;00m \u001B[38;5;28;43mself\u001B[39;49m\u001B[38;5;241;43m.\u001B[39;49m\u001B[43murlopen\u001B[49m\u001B[43m(\u001B[49m\u001B[43mmethod\u001B[49m\u001B[43m,\u001B[49m\u001B[43m \u001B[49m\u001B[43murl\u001B[49m\u001B[43m,\u001B[49m\u001B[43m \u001B[49m\u001B[38;5;241;43m*\u001B[39;49m\u001B[38;5;241;43m*\u001B[39;49m\u001B[43mextra_kw\u001B[49m\u001B[43m)\u001B[49m\n",
      "File \u001B[0;32m~/miniconda3/lib/python3.12/site-packages/urllib3/poolmanager.py:432\u001B[0m, in \u001B[0;36mPoolManager.urlopen\u001B[0;34m(self, method, url, redirect, **kw)\u001B[0m\n\u001B[1;32m    422\u001B[0m \u001B[38;5;28;01mif\u001B[39;00m u\u001B[38;5;241m.\u001B[39mscheme \u001B[38;5;129;01mis\u001B[39;00m \u001B[38;5;28;01mNone\u001B[39;00m:\n\u001B[1;32m    423\u001B[0m     warnings\u001B[38;5;241m.\u001B[39mwarn(\n\u001B[1;32m    424\u001B[0m         \u001B[38;5;124m\"\u001B[39m\u001B[38;5;124mURLs without a scheme (ie \u001B[39m\u001B[38;5;124m'\u001B[39m\u001B[38;5;124mhttps://\u001B[39m\u001B[38;5;124m'\u001B[39m\u001B[38;5;124m) are deprecated and will raise an error \u001B[39m\u001B[38;5;124m\"\u001B[39m\n\u001B[1;32m    425\u001B[0m         \u001B[38;5;124m\"\u001B[39m\u001B[38;5;124min a future version of urllib3. To avoid this DeprecationWarning ensure all URLs \u001B[39m\u001B[38;5;124m\"\u001B[39m\n\u001B[0;32m   (...)\u001B[0m\n\u001B[1;32m    429\u001B[0m         stacklevel\u001B[38;5;241m=\u001B[39m\u001B[38;5;241m2\u001B[39m,\n\u001B[1;32m    430\u001B[0m     )\n\u001B[0;32m--> 432\u001B[0m conn \u001B[38;5;241m=\u001B[39m \u001B[38;5;28;43mself\u001B[39;49m\u001B[38;5;241;43m.\u001B[39;49m\u001B[43mconnection_from_host\u001B[49m\u001B[43m(\u001B[49m\u001B[43mu\u001B[49m\u001B[38;5;241;43m.\u001B[39;49m\u001B[43mhost\u001B[49m\u001B[43m,\u001B[49m\u001B[43m \u001B[49m\u001B[43mport\u001B[49m\u001B[38;5;241;43m=\u001B[39;49m\u001B[43mu\u001B[49m\u001B[38;5;241;43m.\u001B[39;49m\u001B[43mport\u001B[49m\u001B[43m,\u001B[49m\u001B[43m \u001B[49m\u001B[43mscheme\u001B[49m\u001B[38;5;241;43m=\u001B[39;49m\u001B[43mu\u001B[49m\u001B[38;5;241;43m.\u001B[39;49m\u001B[43mscheme\u001B[49m\u001B[43m)\u001B[49m\n\u001B[1;32m    434\u001B[0m kw[\u001B[38;5;124m\"\u001B[39m\u001B[38;5;124massert_same_host\u001B[39m\u001B[38;5;124m\"\u001B[39m] \u001B[38;5;241m=\u001B[39m \u001B[38;5;28;01mFalse\u001B[39;00m\n\u001B[1;32m    435\u001B[0m kw[\u001B[38;5;124m\"\u001B[39m\u001B[38;5;124mredirect\u001B[39m\u001B[38;5;124m\"\u001B[39m] \u001B[38;5;241m=\u001B[39m \u001B[38;5;28;01mFalse\u001B[39;00m\n",
      "File \u001B[0;32m~/miniconda3/lib/python3.12/site-packages/urllib3/poolmanager.py:303\u001B[0m, in \u001B[0;36mPoolManager.connection_from_host\u001B[0;34m(self, host, port, scheme, pool_kwargs)\u001B[0m\n\u001B[1;32m    300\u001B[0m request_context[\u001B[38;5;124m\"\u001B[39m\u001B[38;5;124mport\u001B[39m\u001B[38;5;124m\"\u001B[39m] \u001B[38;5;241m=\u001B[39m port\n\u001B[1;32m    301\u001B[0m request_context[\u001B[38;5;124m\"\u001B[39m\u001B[38;5;124mhost\u001B[39m\u001B[38;5;124m\"\u001B[39m] \u001B[38;5;241m=\u001B[39m host\n\u001B[0;32m--> 303\u001B[0m \u001B[38;5;28;01mreturn\u001B[39;00m \u001B[38;5;28;43mself\u001B[39;49m\u001B[38;5;241;43m.\u001B[39;49m\u001B[43mconnection_from_context\u001B[49m\u001B[43m(\u001B[49m\u001B[43mrequest_context\u001B[49m\u001B[43m)\u001B[49m\n",
      "File \u001B[0;32m~/miniconda3/lib/python3.12/site-packages/urllib3/poolmanager.py:328\u001B[0m, in \u001B[0;36mPoolManager.connection_from_context\u001B[0;34m(self, request_context)\u001B[0m\n\u001B[1;32m    325\u001B[0m     \u001B[38;5;28;01mraise\u001B[39;00m URLSchemeUnknown(scheme)\n\u001B[1;32m    326\u001B[0m pool_key \u001B[38;5;241m=\u001B[39m pool_key_constructor(request_context)\n\u001B[0;32m--> 328\u001B[0m \u001B[38;5;28;01mreturn\u001B[39;00m \u001B[38;5;28;43mself\u001B[39;49m\u001B[38;5;241;43m.\u001B[39;49m\u001B[43mconnection_from_pool_key\u001B[49m\u001B[43m(\u001B[49m\u001B[43mpool_key\u001B[49m\u001B[43m,\u001B[49m\u001B[43m \u001B[49m\u001B[43mrequest_context\u001B[49m\u001B[38;5;241;43m=\u001B[39;49m\u001B[43mrequest_context\u001B[49m\u001B[43m)\u001B[49m\n",
      "File \u001B[0;32m~/miniconda3/lib/python3.12/site-packages/urllib3/poolmanager.py:351\u001B[0m, in \u001B[0;36mPoolManager.connection_from_pool_key\u001B[0;34m(self, pool_key, request_context)\u001B[0m\n\u001B[1;32m    349\u001B[0m     host \u001B[38;5;241m=\u001B[39m request_context[\u001B[38;5;124m\"\u001B[39m\u001B[38;5;124mhost\u001B[39m\u001B[38;5;124m\"\u001B[39m]\n\u001B[1;32m    350\u001B[0m     port \u001B[38;5;241m=\u001B[39m request_context[\u001B[38;5;124m\"\u001B[39m\u001B[38;5;124mport\u001B[39m\u001B[38;5;124m\"\u001B[39m]\n\u001B[0;32m--> 351\u001B[0m     pool \u001B[38;5;241m=\u001B[39m \u001B[38;5;28;43mself\u001B[39;49m\u001B[38;5;241;43m.\u001B[39;49m\u001B[43m_new_pool\u001B[49m\u001B[43m(\u001B[49m\u001B[43mscheme\u001B[49m\u001B[43m,\u001B[49m\u001B[43m \u001B[49m\u001B[43mhost\u001B[49m\u001B[43m,\u001B[49m\u001B[43m \u001B[49m\u001B[43mport\u001B[49m\u001B[43m,\u001B[49m\u001B[43m \u001B[49m\u001B[43mrequest_context\u001B[49m\u001B[38;5;241;43m=\u001B[39;49m\u001B[43mrequest_context\u001B[49m\u001B[43m)\u001B[49m\n\u001B[1;32m    352\u001B[0m     \u001B[38;5;28mself\u001B[39m\u001B[38;5;241m.\u001B[39mpools[pool_key] \u001B[38;5;241m=\u001B[39m pool\n\u001B[1;32m    354\u001B[0m \u001B[38;5;28;01mreturn\u001B[39;00m pool\n",
      "File \u001B[0;32m~/miniconda3/lib/python3.12/site-packages/urllib3/poolmanager.py:265\u001B[0m, in \u001B[0;36mPoolManager._new_pool\u001B[0;34m(self, scheme, host, port, request_context)\u001B[0m\n\u001B[1;32m    262\u001B[0m     \u001B[38;5;28;01mfor\u001B[39;00m kw \u001B[38;5;129;01min\u001B[39;00m SSL_KEYWORDS:\n\u001B[1;32m    263\u001B[0m         request_context\u001B[38;5;241m.\u001B[39mpop(kw, \u001B[38;5;28;01mNone\u001B[39;00m)\n\u001B[0;32m--> 265\u001B[0m \u001B[38;5;28;01mreturn\u001B[39;00m \u001B[43mpool_cls\u001B[49m\u001B[43m(\u001B[49m\u001B[43mhost\u001B[49m\u001B[43m,\u001B[49m\u001B[43m \u001B[49m\u001B[43mport\u001B[49m\u001B[43m,\u001B[49m\u001B[43m \u001B[49m\u001B[38;5;241;43m*\u001B[39;49m\u001B[38;5;241;43m*\u001B[39;49m\u001B[43mrequest_context\u001B[49m\u001B[43m)\u001B[49m\n",
      "File \u001B[0;32m~/miniconda3/lib/python3.12/site-packages/urllib3/connectionpool.py:195\u001B[0m, in \u001B[0;36mHTTPConnectionPool.__init__\u001B[0;34m(self, host, port, timeout, maxsize, block, headers, retries, _proxy, _proxy_headers, _proxy_config, **conn_kw)\u001B[0m\n\u001B[1;32m    192\u001B[0m RequestMethods\u001B[38;5;241m.\u001B[39m\u001B[38;5;21m__init__\u001B[39m(\u001B[38;5;28mself\u001B[39m, headers)\n\u001B[1;32m    194\u001B[0m \u001B[38;5;28;01mif\u001B[39;00m \u001B[38;5;129;01mnot\u001B[39;00m \u001B[38;5;28misinstance\u001B[39m(timeout, Timeout):\n\u001B[0;32m--> 195\u001B[0m     timeout \u001B[38;5;241m=\u001B[39m \u001B[43mTimeout\u001B[49m\u001B[38;5;241;43m.\u001B[39;49m\u001B[43mfrom_float\u001B[49m\u001B[43m(\u001B[49m\u001B[43mtimeout\u001B[49m\u001B[43m)\u001B[49m\n\u001B[1;32m    197\u001B[0m \u001B[38;5;28;01mif\u001B[39;00m retries \u001B[38;5;129;01mis\u001B[39;00m \u001B[38;5;28;01mNone\u001B[39;00m:\n\u001B[1;32m    198\u001B[0m     retries \u001B[38;5;241m=\u001B[39m Retry\u001B[38;5;241m.\u001B[39mDEFAULT\n",
      "File \u001B[0;32m~/miniconda3/lib/python3.12/site-packages/urllib3/util/timeout.py:186\u001B[0m, in \u001B[0;36mTimeout.from_float\u001B[0;34m(cls, timeout)\u001B[0m\n\u001B[1;32m    172\u001B[0m \u001B[38;5;129m@classmethod\u001B[39m\n\u001B[1;32m    173\u001B[0m \u001B[38;5;28;01mdef\u001B[39;00m \u001B[38;5;21mfrom_float\u001B[39m(\u001B[38;5;28mcls\u001B[39m, timeout: _TYPE_TIMEOUT) \u001B[38;5;241m-\u001B[39m\u001B[38;5;241m>\u001B[39m Timeout:\n\u001B[1;32m    174\u001B[0m \u001B[38;5;250m    \u001B[39m\u001B[38;5;124;03m\"\"\"Create a new Timeout from a legacy timeout value.\u001B[39;00m\n\u001B[1;32m    175\u001B[0m \n\u001B[1;32m    176\u001B[0m \u001B[38;5;124;03m    The timeout value used by httplib.py sets the same timeout on the\u001B[39;00m\n\u001B[0;32m   (...)\u001B[0m\n\u001B[1;32m    184\u001B[0m \u001B[38;5;124;03m    :rtype: :class:`Timeout`\u001B[39;00m\n\u001B[1;32m    185\u001B[0m \u001B[38;5;124;03m    \"\"\"\u001B[39;00m\n\u001B[0;32m--> 186\u001B[0m     \u001B[38;5;28;01mreturn\u001B[39;00m \u001B[43mTimeout\u001B[49m\u001B[43m(\u001B[49m\u001B[43mread\u001B[49m\u001B[38;5;241;43m=\u001B[39;49m\u001B[43mtimeout\u001B[49m\u001B[43m,\u001B[49m\u001B[43m \u001B[49m\u001B[43mconnect\u001B[49m\u001B[38;5;241;43m=\u001B[39;49m\u001B[43mtimeout\u001B[49m\u001B[43m)\u001B[49m\n",
      "File \u001B[0;32m~/miniconda3/lib/python3.12/site-packages/urllib3/util/timeout.py:115\u001B[0m, in \u001B[0;36mTimeout.__init__\u001B[0;34m(self, total, connect, read)\u001B[0m\n\u001B[1;32m    109\u001B[0m \u001B[38;5;28;01mdef\u001B[39;00m \u001B[38;5;21m__init__\u001B[39m(\n\u001B[1;32m    110\u001B[0m     \u001B[38;5;28mself\u001B[39m,\n\u001B[1;32m    111\u001B[0m     total: _TYPE_TIMEOUT \u001B[38;5;241m=\u001B[39m \u001B[38;5;28;01mNone\u001B[39;00m,\n\u001B[1;32m    112\u001B[0m     connect: _TYPE_TIMEOUT \u001B[38;5;241m=\u001B[39m _DEFAULT_TIMEOUT,\n\u001B[1;32m    113\u001B[0m     read: _TYPE_TIMEOUT \u001B[38;5;241m=\u001B[39m _DEFAULT_TIMEOUT,\n\u001B[1;32m    114\u001B[0m ) \u001B[38;5;241m-\u001B[39m\u001B[38;5;241m>\u001B[39m \u001B[38;5;28;01mNone\u001B[39;00m:\n\u001B[0;32m--> 115\u001B[0m     \u001B[38;5;28mself\u001B[39m\u001B[38;5;241m.\u001B[39m_connect \u001B[38;5;241m=\u001B[39m \u001B[38;5;28;43mself\u001B[39;49m\u001B[38;5;241;43m.\u001B[39;49m\u001B[43m_validate_timeout\u001B[49m\u001B[43m(\u001B[49m\u001B[43mconnect\u001B[49m\u001B[43m,\u001B[49m\u001B[43m \u001B[49m\u001B[38;5;124;43m\"\u001B[39;49m\u001B[38;5;124;43mconnect\u001B[39;49m\u001B[38;5;124;43m\"\u001B[39;49m\u001B[43m)\u001B[49m\n\u001B[1;32m    116\u001B[0m     \u001B[38;5;28mself\u001B[39m\u001B[38;5;241m.\u001B[39m_read \u001B[38;5;241m=\u001B[39m \u001B[38;5;28mself\u001B[39m\u001B[38;5;241m.\u001B[39m_validate_timeout(read, \u001B[38;5;124m\"\u001B[39m\u001B[38;5;124mread\u001B[39m\u001B[38;5;124m\"\u001B[39m)\n\u001B[1;32m    117\u001B[0m     \u001B[38;5;28mself\u001B[39m\u001B[38;5;241m.\u001B[39mtotal \u001B[38;5;241m=\u001B[39m \u001B[38;5;28mself\u001B[39m\u001B[38;5;241m.\u001B[39m_validate_timeout(total, \u001B[38;5;124m\"\u001B[39m\u001B[38;5;124mtotal\u001B[39m\u001B[38;5;124m\"\u001B[39m)\n",
      "File \u001B[0;32m~/miniconda3/lib/python3.12/site-packages/urllib3/util/timeout.py:152\u001B[0m, in \u001B[0;36mTimeout._validate_timeout\u001B[0;34m(cls, value, name)\u001B[0m\n\u001B[1;32m    150\u001B[0m     \u001B[38;5;28mfloat\u001B[39m(value)\n\u001B[1;32m    151\u001B[0m \u001B[38;5;28;01mexcept\u001B[39;00m (\u001B[38;5;167;01mTypeError\u001B[39;00m, \u001B[38;5;167;01mValueError\u001B[39;00m):\n\u001B[0;32m--> 152\u001B[0m     \u001B[38;5;28;01mraise\u001B[39;00m \u001B[38;5;167;01mValueError\u001B[39;00m(\n\u001B[1;32m    153\u001B[0m         \u001B[38;5;124m\"\u001B[39m\u001B[38;5;124mTimeout value \u001B[39m\u001B[38;5;132;01m%s\u001B[39;00m\u001B[38;5;124m was \u001B[39m\u001B[38;5;132;01m%s\u001B[39;00m\u001B[38;5;124m, but it must be an \u001B[39m\u001B[38;5;124m\"\u001B[39m\n\u001B[1;32m    154\u001B[0m         \u001B[38;5;124m\"\u001B[39m\u001B[38;5;124mint, float or None.\u001B[39m\u001B[38;5;124m\"\u001B[39m \u001B[38;5;241m%\u001B[39m (name, value)\n\u001B[1;32m    155\u001B[0m     ) \u001B[38;5;28;01mfrom\u001B[39;00m \u001B[38;5;28;01mNone\u001B[39;00m\n\u001B[1;32m    157\u001B[0m \u001B[38;5;28;01mtry\u001B[39;00m:\n\u001B[1;32m    158\u001B[0m     \u001B[38;5;28;01mif\u001B[39;00m value \u001B[38;5;241m<\u001B[39m\u001B[38;5;241m=\u001B[39m \u001B[38;5;241m0\u001B[39m:\n",
      "\u001B[0;31mValueError\u001B[0m: Timeout value connect was <object object at 0x1012208c0>, but it must be an int, float or None."
     ]
    }
   ],
   "execution_count": 6
  },
  {
   "metadata": {
    "ExecuteTime": {
     "end_time": "2024-09-15T16:38:53.442909Z",
     "start_time": "2024-09-15T16:38:53.440254Z"
    }
   },
   "cell_type": "code",
   "source": [
    "import selenium\n",
    "print(selenium.__version__)\n"
   ],
   "id": "320abcdc37bf7512",
   "outputs": [
    {
     "name": "stdout",
     "output_type": "stream",
     "text": [
      "3.141.0\n"
     ]
    }
   ],
   "execution_count": 5
  },
  {
   "metadata": {},
   "cell_type": "code",
   "outputs": [],
   "execution_count": null,
   "source": "",
   "id": "afb925934d293804"
  }
 ],
 "metadata": {
  "kernelspec": {
   "display_name": "Python 3",
   "language": "python",
   "name": "python3"
  },
  "language_info": {
   "codemirror_mode": {
    "name": "ipython",
    "version": 2
   },
   "file_extension": ".py",
   "mimetype": "text/x-python",
   "name": "python",
   "nbconvert_exporter": "python",
   "pygments_lexer": "ipython2",
   "version": "2.7.6"
  }
 },
 "nbformat": 4,
 "nbformat_minor": 5
}
