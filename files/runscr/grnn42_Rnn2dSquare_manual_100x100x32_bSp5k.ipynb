{
 "cells": [
  {
   "cell_type": "markdown",
   "id": "0",
   "metadata": {},
   "source": [
    "# Setup\n",
    "\n",
    "## Imports"
   ]
  },
  {
   "cell_type": "code",
   "execution_count": null,
   "id": "1",
   "metadata": {
    "tags": []
   },
   "outputs": [],
   "source": [
    "# Import importlib to reload modules and sys and os to add the path for other imports\n",
    "import importlib\n",
    "import sys\n",
    "import os\n",
    "import torch\n",
    "\n",
    "# Append the parent directory to the path to import the necessary modules\n",
    "sys.path.append(os.path.abspath(os.path.join(os.getcwd(), '..')))\n",
    "\n",
    "# Import utilities\n",
    "from utils import setuputil, trainutil, inferutil\n",
    "from classes.models import Rnn2d\n",
    "\n",
    "# Reload the necessary modules to ensure they are up-to-date\n",
    "importlib.reload(setuputil)\n",
    "importlib.reload(trainutil)\n",
    "importlib.reload(inferutil)\n",
    "importlib.reload(Rnn2d)\n",
    "\n",
    "# Import the required utils\n",
    "from utils.setuputil import setup_simple_config, display_simple_config\n",
    "from utils.trainutil import train_model\n",
    "from utils.inferutil import infer_one, infer_full\n",
    "\n",
    "# Import the SimpleGeluEmbedAdd class\n",
    "from classes.models.Rnn2d import Rnn2dSquare"
   ]
  },
  {
   "cell_type": "markdown",
   "id": "2",
   "metadata": {},
   "source": [
    "## Config"
   ]
  },
  {
   "cell_type": "code",
   "execution_count": null,
   "id": "3",
   "metadata": {
    "tags": []
   },
   "outputs": [],
   "source": [
    "# Define the input configuration for the RNN model\n",
    "setup_config = {\n",
    "    # Environment and Model Info\n",
    "    \"env\": \"gcp\",                \n",
    "    \"approach\": \"rnn\",         \n",
    "    \"model_name\": \"Rnn2dSquare\",\n",
    "    \n",
    "    # System Configuration\n",
    "    \"device\": \"cuda:0\",\n",
    "    \"threads\": 12,\n",
    "    \"seed\": 42,\n",
    "    \n",
    "    # Data Configuration\n",
    "    \"data_dir\": \"../../data/farzan\",\n",
    "    \"data_ds\": \"manual\",\n",
    "    \n",
    "    # Model Parameters\n",
    "    \"rows\": 100,\n",
    "    \"cols\": 100,\n",
    "    \"tokens\": 32,\n",
    "    \n",
    "    # RNN-Specific Parameters\n",
    "    \"hidden_dim\": 100,         # Dimension of the hidden state vector\n",
    "    \"rnn_layers\": 2,           # Number of RNN layers\n",
    "    \"dropout_rate\": 0.05,      # Dropout rate for regularization\n",
    "    \"nonlinearity\": \"relu\",    # Nonlinearity for the RNN (e.g., relu, tanh)\n",
    "    \n",
    "    # Vocabulary Parameters\n",
    "    \"vocab_size\": 150000,\n",
    "    \"vocab_space\": True,\n",
    "    \"vocab_case\": \"both\",\n",
    "    \n",
    "    # Training Parameters\n",
    "    \"batch\": 10,\n",
    "    \"lr\": 7e-5,\n",
    "    \"mu\": 0.25,\n",
    "    \"epochs\": 20,\n",
    "    \"patience\": 3,\n",
    "    \"save_int\": 5,\n",
    "    \"save_dir\": '../models/'\n",
    "}\n",
    "\n",
    "# Setup the configuration using setuputil and display it\n",
    "config = setup_simple_config(setup_config)\n",
    "display_simple_config(config)"
   ]
  },
  {
   "cell_type": "markdown",
   "id": "4",
   "metadata": {},
   "source": [
    "## Local Variables"
   ]
  },
  {
   "cell_type": "code",
   "execution_count": null,
   "id": "5",
   "metadata": {
    "tags": []
   },
   "outputs": [],
   "source": [
    "# Define local variables from the generated config dictionary to run file\n",
    "# System variables\n",
    "DEVICE = config[\"DEVICE\"]\n",
    "THREADS = config[\"THREADS\"]\n",
    "\n",
    "# Data loaders and vocab\n",
    "train_loader = config[\"train_loader\"]\n",
    "val_loader = config[\"val_loader\"]\n",
    "test_loader = config[\"test_loader\"]\n",
    "spreadsheet_vocab = config[\"vocab\"]\n",
    "spreadsheet_wvs = config[\"wvs\"]\n",
    "\n",
    "# RNN Specific Params\n",
    "hidden_dim = config[\"hidden_dim\"]\n",
    "rnn_layers = config['rnn_layers']\n",
    "dropout_rate = config['dropout_rate']\n",
    "nonlinearity = config['nonlinearity']\n",
    "\n",
    "\n",
    "# Training parameters\n",
    "batch_size = config[\"batch\"]\n",
    "lr = config[\"lr\"]\n",
    "mu = config[\"mu\"]\n",
    "epochs = config[\"epochs\"]\n",
    "patience = config[\"patience\"]\n",
    "save_int = config[\"save_int\"]\n",
    "save_dir = config[\"save_dir\"]\n",
    "save_name = config[\"save_name\"]\n",
    "\n",
    "# Model moved to device with parameters from the config\n",
    "untrained_model = Rnn2dSquare(\n",
    "    hidden_state_dim=hidden_dim,\n",
    "    rnn_layers=rnn_layers,\n",
    "    embedding_matrix=spreadsheet_wvs,\n",
    "    dropout_rate=dropout_rate,\n",
    "    nonlinearity=nonlinearity\n",
    ").to(DEVICE)\n",
    "\n",
    "# Print the model to confirm initialization\n",
    "print(untrained_model)"
   ]
  },
  {
   "cell_type": "markdown",
   "id": "6",
   "metadata": {},
   "source": [
    "## Train the Model"
   ]
  },
  {
   "cell_type": "code",
   "execution_count": null,
   "id": "7",
   "metadata": {
    "tags": []
   },
   "outputs": [],
   "source": [
    "trained_model = train_model(\n",
    "    model=untrained_model,\n",
    "    train_data=train_loader, \n",
    "    val_data=val_loader, \n",
    "    DEVICE=DEVICE, \n",
    "    batch_size=batch_size,\n",
    "    lr=lr,\n",
    "    mu=mu,\n",
    "    max_epochs=epochs,\n",
    "    patience=patience,\n",
    "    save_int=save_int,\n",
    "    save_dir=save_dir,\n",
    "    save_name=save_name,\n",
    "    config=config\n",
    ")"
   ]
  },
  {
   "cell_type": "markdown",
   "id": "8",
   "metadata": {},
   "source": [
    "# Evaluation"
   ]
  },
  {
   "cell_type": "code",
   "execution_count": null,
   "id": "9",
   "metadata": {
    "tags": []
   },
   "outputs": [],
   "source": [
    "# Define params for evaluation\n",
    "thresh = 0.5\n",
    "loc = 0\n",
    "cond = '>'\n",
    "disp_max=True"
   ]
  },
  {
   "cell_type": "markdown",
   "id": "10",
   "metadata": {},
   "source": [
    "## Single Example"
   ]
  },
  {
   "cell_type": "code",
   "execution_count": null,
   "id": "11",
   "metadata": {
    "tags": []
   },
   "outputs": [],
   "source": [
    "infer_one(trained_model, train_loader, loc=loc, threshold=thresh, condition=cond, disp_max=disp_max, device=DEVICE)"
   ]
  },
  {
   "cell_type": "code",
   "execution_count": null,
   "id": "12",
   "metadata": {
    "tags": []
   },
   "outputs": [],
   "source": [
    "infer_one(trained_model, val_loader, loc=loc, threshold=thresh, condition=cond, disp_max=disp_max, device=DEVICE)"
   ]
  },
  {
   "cell_type": "code",
   "execution_count": null,
   "id": "13",
   "metadata": {
    "tags": []
   },
   "outputs": [],
   "source": [
    "infer_one(trained_model, test_loader, loc=loc, threshold=thresh, condition=cond, disp_max=disp_max, device=DEVICE)"
   ]
  },
  {
   "cell_type": "markdown",
   "id": "14",
   "metadata": {},
   "source": [
    "## All Examples"
   ]
  },
  {
   "cell_type": "code",
   "execution_count": null,
   "id": "15",
   "metadata": {
    "tags": []
   },
   "outputs": [],
   "source": [
    "# Evaluate the model on all train files\n",
    "infer_full(trained_model, train_loader, batch_size=batch_size, threshold=thresh, device=DEVICE)"
   ]
  },
  {
   "cell_type": "code",
   "execution_count": null,
   "id": "16",
   "metadata": {
    "tags": []
   },
   "outputs": [],
   "source": [
    "# All val files\n",
    "infer_full(trained_model, val_loader, batch_size=batch_size, threshold=thresh, device=DEVICE)"
   ]
  },
  {
   "cell_type": "code",
   "execution_count": null,
   "id": "17",
   "metadata": {
    "tags": []
   },
   "outputs": [],
   "source": [
    "# All test files\n",
    "infer_full(trained_model, test_loader, batch_size=batch_size, threshold=thresh, device=DEVICE)"
   ]
  },
  {
   "cell_type": "code",
   "execution_count": null,
   "id": "18",
   "metadata": {},
   "outputs": [],
   "source": []
  }
 ],
 "metadata": {
  "kernelspec": {
   "display_name": "Python 3",
   "language": "python",
   "name": "python3"
  },
  "language_info": {
   "codemirror_mode": {
    "name": "ipython",
    "version": 3
   },
   "file_extension": ".py",
   "mimetype": "text/x-python",
   "name": "python",
   "nbconvert_exporter": "python",
   "pygments_lexer": "ipython3",
   "version": "3.10.15"
  }
 },
 "nbformat": 4,
 "nbformat_minor": 5
}
