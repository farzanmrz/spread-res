{
 "cells": [
  {
   "cell_type": "markdown",
   "id": "0",
   "metadata": {},
   "source": [
    "# Setup\n",
    "\n",
    "## Imports"
   ]
  },
  {
   "cell_type": "code",
   "execution_count": 1,
   "id": "1",
   "metadata": {
    "tags": []
   },
   "outputs": [],
   "source": [
    "# Import importlib to reload modules and sys and os to add the path for other imports\n",
    "import importlib\n",
    "import sys\n",
    "import os\n",
    "import torch\n",
    "\n",
    "# Append the parent directory to the path to import the necessary modules\n",
    "sys.path.append(os.path.abspath(os.path.join(os.getcwd(), '..')))\n",
    "\n",
    "# Import utilities\n",
    "from utils import setuputil, trainutil, inferutil\n",
    "from classes.models import SimpleGeluEmbed\n",
    "\n",
    "# Reload the necessary modules to ensure they are up-to-date\n",
    "importlib.reload(setuputil)\n",
    "importlib.reload(trainutil)\n",
    "importlib.reload(inferutil)\n",
    "importlib.reload(SimpleGeluEmbed)\n",
    "\n",
    "# Import the required utils\n",
    "from utils.setuputil import setup_config, display_config\n",
    "from utils.trainutil import train_model\n",
    "from utils.inferutil import infer_one, infer_full\n",
    "\n",
    "# Import the SimpleGeluEmbedAdd class\n",
    "from classes.models.SimpleGeluEmbed import SimpleGeluEmbedAvg"
   ]
  },
  {
   "cell_type": "markdown",
   "id": "2",
   "metadata": {},
   "source": [
    "## Config Setup"
   ]
  },
  {
   "cell_type": "code",
   "execution_count": 2,
   "id": "37de1a1f-607a-4713-a1eb-73f6d075b655",
   "metadata": {},
   "outputs": [
    {
     "name": "stderr",
     "output_type": "stream",
     "text": [
      "Getting Vocab: 100%|██████████████████████████████████████████████████████████████████████████████████████████████████████████████████████████| 40/40 [00:00<00:00, 120.06it/s]\n"
     ]
    },
    {
     "name": "stdout",
     "output_type": "stream",
     "text": [
      "40(P) = 40(G) + 0(E)\n",
      "Unique Tokens: 5593\n",
      "Vocab Size: 5597\n"
     ]
    },
    {
     "name": "stderr",
     "output_type": "stream",
     "text": [
      "Creating Word Embeddings: 100%|█████████████████████████████████████████████████████████████████████████████████████████████████████████| 5597/5597 [00:00<00:00, 79459.52it/s]\n"
     ]
    },
    {
     "name": "stdout",
     "output_type": "stream",
     "text": [
      "Word Embeddings Shape: torch.Size([5597, 50])\n"
     ]
    },
    {
     "name": "stderr",
     "output_type": "stream",
     "text": [
      "Processing files: 100%|██████████████████████████████████████████████████████████████████████████████████████████████████████████████████████| 40/40 [00:00<00:00, 7223.46it/s]\n"
     ]
    },
    {
     "name": "stdout",
     "output_type": "stream",
     "text": [
      "\n",
      "40(P) = 40(G) + 0(E)\n"
     ]
    },
    {
     "name": "stderr",
     "output_type": "stream",
     "text": [
      "Processing files: 100%|████████████████████████████████████████████████████████████████████████████████████████████████████████████████████████| 5/5 [00:00<00:00, 5232.42it/s]\n"
     ]
    },
    {
     "name": "stdout",
     "output_type": "stream",
     "text": [
      "\n",
      "5(P) = 5(G) + 0(E)\n"
     ]
    },
    {
     "name": "stderr",
     "output_type": "stream",
     "text": [
      "Processing files: 100%|████████████████████████████████████████████████████████████████████████████████████████████████████████████████████████| 5/5 [00:00<00:00, 4336.54it/s]\n"
     ]
    },
    {
     "name": "stdout",
     "output_type": "stream",
     "text": [
      "\n",
      "5(P) = 5(G) + 0(E)\n",
      "\n",
      "Configuration for SIMPLE approach:\n",
      "{\n",
      "  \"env\": \"bvm\",\n",
      "  \"approach\": \"simple\",\n",
      "  \"model_base\": \"glove50\",\n",
      "  \"model_name\": \"SimpleGeluEmbedAvg\",\n",
      "  \"rows\": 100,\n",
      "  \"cols\": 100,\n",
      "  \"tokens\": 16,\n",
      "  \"DEVICE\": \"cuda:0\",\n",
      "  \"THREADS\": 32,\n",
      "  \"seed\": 42,\n",
      "  \"data_ds\": \"manual\",\n",
      "  \"data_dir\": \"../../../data/farzan\",\n",
      "  \"train_dir\": \"../../../data/farzan/manual_train\",\n",
      "  \"val_dir\": \"../../../data/farzan/manual_val\",\n",
      "  \"test_dir\": \"../../../data/farzan/manual_test\",\n",
      "  \"vocab_size\": 5597,\n",
      "  \"vocab_space\": true,\n",
      "  \"vocab_case\": \"both\",\n",
      "  \"vocab\": \"<Vocab Object>\",\n",
      "  \"wvs\": \"<Embedding Matrix>\",\n",
      "  \"train_loader\": \"<LoaderSimple Object>\",\n",
      "  \"val_loader\": \"<LoaderSimple Object>\",\n",
      "  \"test_loader\": \"<LoaderSimple Object>\",\n",
      "  \"batch\": 40,\n",
      "  \"lr\": 0.1,\n",
      "  \"mu\": 0.25,\n",
      "  \"epochs\": 20,\n",
      "  \"patience\": 2,\n",
      "  \"save_int\": 10,\n",
      "  \"save_dir\": \"../models/\",\n",
      "  \"save_name\": \"bsim42_SimpleGeluEmbedAvg_manual_100x100x16_bSp5k_bsz40lr1e-1ep20pa2\"\n",
      "}\n"
     ]
    }
   ],
   "source": [
    "# Define the input configuration for the simple model\n",
    "input_config = {\n",
    "    # Environment and Model Info\n",
    "    \"env\": \"bvm\",\n",
    "    \"approach\": \"simple\",\n",
    "    \"model_name\": \"SimpleGeluEmbedAvg\",\n",
    "    \n",
    "    # System Configuration\n",
    "    \"device\": \"cuda:0\",\n",
    "    \"threads\": 32,\n",
    "    \"seed\": 42,\n",
    "    \n",
    "    # Data Configuration\n",
    "    \"data_dir\": \"../../../data/farzan\",\n",
    "    \"data_ds\": \"manual\",\n",
    "    \n",
    "    # Model Parameters\n",
    "    \"rows\": 100,\n",
    "    \"cols\": 100,\n",
    "    \"tokens\": 16,\n",
    "    \n",
    "    # Vocabulary Parameters\n",
    "    \"vocab_size\": 150000,\n",
    "    \"vocab_space\": True,\n",
    "    \"vocab_case\": \"both\",\n",
    "    \n",
    "    # Training Parameters\n",
    "    \"batch\": 40,\n",
    "    \"lr\": 1e-1,\n",
    "    \"mu\": 0.25,\n",
    "    \"epochs\": 20,\n",
    "    \"patience\": 2,\n",
    "    \"save_int\": 10,\n",
    "    \"save_dir\": \"../models/\",\n",
    "}\n",
    "\n",
    "# Setup the configuration using setuputil and display it\n",
    "config = setup_config(input_config)\n",
    "display_config(config)\n",
    "\n",
    "# Define local variables from the config dictionary\n",
    "# System variables\n",
    "DEVICE = config[\"DEVICE\"]\n",
    "THREADS = config[\"THREADS\"]\n",
    "\n",
    "# Data loaders and vocab\n",
    "train_loader = config[\"train_loader\"]\n",
    "val_loader = config[\"val_loader\"]\n",
    "test_loader = config[\"test_loader\"]\n",
    "spreadsheet_vocab = config[\"vocab\"]\n",
    "spreadsheet_wvs = config[\"wvs\"]\n",
    "\n",
    "# Training parameters\n",
    "batch_size = config[\"batch\"]\n",
    "lr = config[\"lr\"]\n",
    "mu = config[\"mu\"]\n",
    "epochs = config[\"epochs\"]\n",
    "patience = config[\"patience\"]\n",
    "save_int = config[\"save_int\"]\n",
    "save_dir = config[\"save_dir\"]\n",
    "save_name = config[\"save_name\"]"
   ]
  },
  {
   "cell_type": "markdown",
   "id": "5",
   "metadata": {},
   "source": [
    "# Model Training\n",
    "\n",
    "## Define the model"
   ]
  },
  {
   "cell_type": "code",
   "execution_count": 3,
   "id": "6",
   "metadata": {
    "tags": []
   },
   "outputs": [
    {
     "name": "stdout",
     "output_type": "stream",
     "text": [
      "SimpleGeluEmbedAvg(\n",
      "  (_embed): Embedding(5597, 50)\n",
      "  (_drop): Dropout(p=0.05, inplace=False)\n",
      "  (_non_linear): GELU()\n",
      "  (_pred): Linear(in_features=50, out_features=1, bias=True)\n",
      ")\n"
     ]
    }
   ],
   "source": [
    "# Define the untrained model and move it to the device\n",
    "untrained_model = SimpleGeluEmbedAvg(spreadsheet_wvs).to(DEVICE)\n",
    "print(untrained_model)"
   ]
  },
  {
   "cell_type": "markdown",
   "id": "7",
   "metadata": {},
   "source": [
    "## Train the Model"
   ]
  },
  {
   "cell_type": "code",
   "execution_count": null,
   "id": "8",
   "metadata": {
    "tags": []
   },
   "outputs": [
    {
     "name": "stdout",
     "output_type": "stream",
     "text": [
      "Epoch 0\n"
     ]
    },
    {
     "name": "stderr",
     "output_type": "stream",
     "text": [
      "Batch Processing: 100%|██████████████████████████████████████████████████████████████████████████████████████████████████████████████████████████| 1/1 [00:03<00:00,  3.75s/it]\n",
      "Validation Processing: 100%|█████████████████████████████████████████████████████████████████████████████████████████████████████████████████████| 1/1 [00:01<00:00,  1.33s/it]\n"
     ]
    },
    {
     "name": "stdout",
     "output_type": "stream",
     "text": [
      "Train Loss: 1.7129079103469849, Perplexity: 1.0000171292258069\n",
      "Val Loss: 0.7026445269584656, Perplexity: 1.0000070264699552\n",
      "\n",
      "\n",
      "Epoch 1\n"
     ]
    },
    {
     "name": "stderr",
     "output_type": "stream",
     "text": [
      "Batch Processing: 100%|██████████████████████████████████████████████████████████████████████████████████████████████████████████████████████████| 1/1 [00:03<00:00,  3.73s/it]\n",
      "Validation Processing: 100%|█████████████████████████████████████████████████████████████████████████████████████████████████████████████████████| 1/1 [00:01<00:00,  1.29s/it]\n"
     ]
    },
    {
     "name": "stdout",
     "output_type": "stream",
     "text": [
      "Train Loss: 0.712165892124176, Perplexity: 1.0000071216842803\n",
      "Val Loss: 0.4020729660987854, Perplexity: 1.000004020737744\n",
      "\n",
      "\n",
      "Epoch 2\n"
     ]
    },
    {
     "name": "stderr",
     "output_type": "stream",
     "text": [
      "Batch Processing: 100%|██████████████████████████████████████████████████████████████████████████████████████████████████████████████████████████| 1/1 [00:03<00:00,  3.62s/it]\n",
      "Validation Processing: 100%|█████████████████████████████████████████████████████████████████████████████████████████████████████████████████████| 1/1 [00:01<00:00,  1.32s/it]\n"
     ]
    },
    {
     "name": "stdout",
     "output_type": "stream",
     "text": [
      "Train Loss: 0.40179795026779175, Perplexity: 1.0000040179875749\n",
      "Val Loss: 0.30077892541885376, Perplexity: 1.0000030077937776\n",
      "\n",
      "\n",
      "Epoch 3\n"
     ]
    },
    {
     "name": "stderr",
     "output_type": "stream",
     "text": [
      "Batch Processing: 100%|██████████████████████████████████████████████████████████████████████████████████████████████████████████████████████████| 1/1 [00:03<00:00,  3.61s/it]\n",
      "Validation Processing: 100%|█████████████████████████████████████████████████████████████████████████████████████████████████████████████████████| 1/1 [00:01<00:00,  1.32s/it]\n"
     ]
    },
    {
     "name": "stdout",
     "output_type": "stream",
     "text": [
      "Train Loss: 0.30232474207878113, Perplexity: 1.0000030232519908\n",
      "Val Loss: 0.2615412175655365, Perplexity: 1.0000026154155959\n",
      "\n",
      "\n",
      "Epoch 4\n"
     ]
    },
    {
     "name": "stderr",
     "output_type": "stream",
     "text": [
      "Batch Processing: 100%|██████████████████████████████████████████████████████████████████████████████████████████████████████████████████████████| 1/1 [00:03<00:00,  3.65s/it]\n",
      "Validation Processing: 100%|█████████████████████████████████████████████████████████████████████████████████████████████████████████████████████| 1/1 [00:01<00:00,  1.29s/it]\n"
     ]
    },
    {
     "name": "stdout",
     "output_type": "stream",
     "text": [
      "Train Loss: 0.2652941048145294, Perplexity: 1.0000026529445671\n",
      "Val Loss: 0.237630695104599, Perplexity: 1.0000023763097745\n",
      "\n",
      "\n",
      "Epoch 5\n"
     ]
    },
    {
     "name": "stderr",
     "output_type": "stream",
     "text": [
      "Batch Processing:   0%|                                                                                                                                  | 0/1 [00:00<?, ?it/s]"
     ]
    }
   ],
   "source": [
    "trained_model = train_model(\n",
    "    model=untrained_model,\n",
    "    train_data=train_loader, \n",
    "    val_data=val_loader, \n",
    "    DEVICE=DEVICE, \n",
    "    batch_size=batch_size,\n",
    "    lr=lr,\n",
    "    mu=mu,\n",
    "    max_epochs=epochs,\n",
    "    patience=patience,\n",
    "    save_int=save_int,\n",
    "    save_dir=save_dir,\n",
    "    save_name=save_name,\n",
    "    config=config\n",
    ")"
   ]
  },
  {
   "cell_type": "markdown",
   "id": "9",
   "metadata": {},
   "source": [
    "# Evaluation"
   ]
  },
  {
   "cell_type": "code",
   "execution_count": null,
   "id": "10",
   "metadata": {
    "tags": []
   },
   "outputs": [],
   "source": [
    "# Define params forevaluation\n",
    "thresh = 0.91\n",
    "loc = 0\n",
    "cond = '>'\n",
    "disp_max=True"
   ]
  },
  {
   "cell_type": "markdown",
   "id": "11",
   "metadata": {},
   "source": [
    "## Single Example"
   ]
  },
  {
   "cell_type": "code",
   "execution_count": null,
   "id": "12",
   "metadata": {
    "tags": []
   },
   "outputs": [],
   "source": [
    "# Check with single example\n",
    "infer_one(trained_model, train_loader, loc=loc, threshold=thresh, condition=cond, disp_max=disp_max, device=DEVICE)\n",
    "infer_one(trained_model, val_loader, loc=loc, threshold=thresh, condition=cond, disp_max=disp_max, device=DEVICE)\n",
    "infer_one(trained_model, test_loader, loc=loc, threshold=thresh, condition=cond, disp_max=disp_max, device=DEVICE)"
   ]
  },
  {
   "cell_type": "markdown",
   "id": "13",
   "metadata": {},
   "source": [
    "## All Examples"
   ]
  },
  {
   "cell_type": "code",
   "execution_count": null,
   "id": "14",
   "metadata": {
    "tags": []
   },
   "outputs": [],
   "source": [
    "# Evaluate the model on all train files\n",
    "infer_full(trained_model, train_loader, batch_size=batch_size, threshold=thresh, device=DEVICE)"
   ]
  },
  {
   "cell_type": "code",
   "execution_count": null,
   "id": "15",
   "metadata": {
    "tags": []
   },
   "outputs": [],
   "source": [
    "# All val files\n",
    "infer_full(trained_model, val_loader, batch_size=batch_size, threshold=thresh, device=DEVICE)"
   ]
  },
  {
   "cell_type": "code",
   "execution_count": null,
   "id": "16",
   "metadata": {
    "tags": []
   },
   "outputs": [],
   "source": [
    "# All test files\n",
    "infer_full(trained_model, test_loader, batch_size=batch_size, threshold=thresh, device=DEVICE)"
   ]
  }
 ],
 "metadata": {
  "kernelspec": {
   "display_name": "Python 3 (ipykernel)",
   "language": "python",
   "name": "python3"
  },
  "language_info": {
   "codemirror_mode": {
    "name": "ipython",
    "version": 3
   },
   "file_extension": ".py",
   "mimetype": "text/x-python",
   "name": "python",
   "nbconvert_exporter": "python",
   "pygments_lexer": "ipython3",
   "version": "3.8.16"
  }
 },
 "nbformat": 4,
 "nbformat_minor": 5
}
