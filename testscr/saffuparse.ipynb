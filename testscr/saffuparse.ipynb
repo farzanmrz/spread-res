{
 "cells": [
  {
   "cell_type": "markdown",
   "metadata": {},
   "source": [
    "# Setup"
   ]
  },
  {
   "cell_type": "code",
   "execution_count": null,
   "metadata": {},
   "outputs": [],
   "source": [
    "# Import importlib to reload modules and sys and os to add the path for other imports\n",
    "import importlib\n",
    "import os\n",
    "import sys\n",
    "\n",
    "# Append the parent directory to the path to import the necessary modules\n",
    "sys.path.append(os.path.abspath(os.path.join(os.getcwd(), \"..\")))\n",
    "\n",
    "# Import the utilities and the dataloader\n",
    "from utils import saffuutil\n",
    "\n",
    "# Now reload the modules to ensure they are up-to-date\n",
    "importlib.reload(saffuutil)\n",
    "\n",
    "# Import the model and funcs required from utils\n",
    "from utils.saffuutil import get_saffutok_data"
   ]
  },
  {
   "cell_type": "markdown",
   "metadata": {},
   "source": [
    "# SAFFU Tokenizer"
   ]
  },
  {
   "cell_type": "markdown",
   "metadata": {},
   "source": [
    "### Pre-Prof Adapted\n",
    "\n",
    "This chunk signals the code in this section is custom and before trying to adapt/emulate professor code in saffu folder pulled from professor's repo"
   ]
  },
  {
   "cell_type": "code",
   "execution_count": null,
   "metadata": {},
   "outputs": [
    {
     "name": "stderr",
     "output_type": "stream",
     "text": [
      "Tokenizing files: 100%|██████████| 400/400 [00:11<00:00, 34.09file/s]\n"
     ]
    },
    {
     "name": "stdout",
     "output_type": "stream",
     "text": [
      "WARNING *** OLE2 inconsistency: SSCS size is 0 but SSAT size is non-zero\n",
      "WARNING *** OLE2 inconsistency: SSCS size is 0 but SSAT size is non-zero\n",
      "Files/Tokens: 400/1276661\n"
     ]
    }
   ],
   "source": [
    "# Set the directory for the tokenizer data and call func\n",
    "tok_dir = \"../data/500_train/\"\n",
    "tok_train_data = get_saffutok_data(dir_path=tok_dir, threads=8)"
   ]
  },
  {
   "cell_type": "markdown",
   "metadata": {},
   "source": [
    "### Post-Adaptation"
   ]
  },
  {
   "cell_type": "code",
   "execution_count": null,
   "metadata": {},
   "outputs": [],
   "source": [
    "# region = \"Abandoned custom import, workout with prof\"\n",
    "# # Imports that are diff since we import only the func needed\n",
    "# from saffu import utilities_saffu\n",
    "# importlib.reload(utilities_saffu)\n",
    "# # For tokenizer setup - [5] ipynb\n",
    "# from saffu.utilities_saffu import get_config\n",
    "# endregion\n",
    "\n",
    "# Execute the necessary scripts to set up the environment\n",
    "exec(open(\"../src/configuration_saffu.py\").read())\n",
    "exec(open(\"../src/tokenization_saffu.py\").read())\n",
    "exec(open(\"../src/utilities_saffu.py\").read())\n",
    "exec(open(\"../src/data_saffu.py\").read())\n",
    "exec(open(\"../src/modeling_saffu.py\").read())\n",
    "exec(open(\"../src/training_saffu.py\").read())\n",
    "exec(open(\"../src/inference_saffu.py\").read())\n",
    "exec(open(\"../src/initialization_saffu.py\").read())\n",
    "exec(open(\"../src/load_data.py\").read())"
   ]
  },
  {
   "cell_type": "code",
   "execution_count": null,
   "metadata": {},
   "outputs": [],
   "source": [
    "# Define list of model sizes applicable for get_config\n",
    "model_sizes = [\"micro\", \"tiny\", \"small\", \"medium\", \"big\"]\n",
    "\n",
    "# Custom name the DS\n",
    "data_set = \"500_train\"\n",
    "\n",
    "# Define the dict to store tokenizer cache\n",
    "tokenizer_directory = \"./cache/\"\n",
    "\n",
    "# Pick a model name from the list\n",
    "model_size = model_sizes[0]\n",
    "\n",
    "# Get the config for the model size\n",
    "config = get_config(model_size=model_size)\n",
    "tokenizer_name = f\"{data_set}-{model_size}\"\n",
    "tokenizer = SAFFUTokenizer(config)"
   ]
  },
  {
   "cell_type": "code",
   "execution_count": null,
   "metadata": {},
   "outputs": [],
   "source": []
  }
 ],
 "metadata": {
  "kernelspec": {
   "display_name": "Python 3",
   "language": "python",
   "name": "python3"
  },
  "language_info": {
   "codemirror_mode": {
    "name": "ipython",
    "version": 3
   },
   "file_extension": ".py",
   "mimetype": "text/x-python",
   "name": "python",
   "nbconvert_exporter": "python",
   "pygments_lexer": "ipython3",
   "version": "3.8.0"
  }
 },
 "nbformat": 4,
 "nbformat_minor": 4
}
